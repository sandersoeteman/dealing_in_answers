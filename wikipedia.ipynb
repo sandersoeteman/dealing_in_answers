{
 "cells": [
  {
   "cell_type": "code",
   "execution_count": 8,
   "metadata": {},
   "outputs": [
    {
     "name": "stdout",
     "output_type": "stream",
     "text": [
      "Requirement already satisfied: apache_beam in /Users/sandersoeteman/mambaforge/envs/python_3_10_8/lib/python3.10/site-packages (2.44.0)\n",
      "Requirement already satisfied: mwparserfromhell in /Users/sandersoeteman/mambaforge/envs/python_3_10_8/lib/python3.10/site-packages (0.6.4)\n",
      "Requirement already satisfied: crcmod<2.0,>=1.7 in /Users/sandersoeteman/mambaforge/envs/python_3_10_8/lib/python3.10/site-packages (from apache_beam) (1.7)\n",
      "Requirement already satisfied: regex>=2020.6.8 in /Users/sandersoeteman/.local/lib/python3.10/site-packages (from apache_beam) (2022.10.31)\n",
      "Requirement already satisfied: protobuf<3.19.5,>3.12.2 in /Users/sandersoeteman/mambaforge/envs/python_3_10_8/lib/python3.10/site-packages (from apache_beam) (3.19.4)\n",
      "Requirement already satisfied: objsize<0.7.0,>=0.6.1 in /Users/sandersoeteman/mambaforge/envs/python_3_10_8/lib/python3.10/site-packages (from apache_beam) (0.6.1)\n",
      "Requirement already satisfied: dill<0.3.2,>=0.3.1.1 in /Users/sandersoeteman/mambaforge/envs/python_3_10_8/lib/python3.10/site-packages (from apache_beam) (0.3.1.1)\n",
      "Requirement already satisfied: zstandard<1,>=0.18.0 in /Users/sandersoeteman/mambaforge/envs/python_3_10_8/lib/python3.10/site-packages (from apache_beam) (0.19.0)\n",
      "Requirement already satisfied: pymongo<4.0.0,>=3.8.0 in /Users/sandersoeteman/mambaforge/envs/python_3_10_8/lib/python3.10/site-packages (from apache_beam) (3.13.0)\n",
      "Requirement already satisfied: httplib2<0.21.0,>=0.8 in /Users/sandersoeteman/mambaforge/envs/python_3_10_8/lib/python3.10/site-packages (from apache_beam) (0.20.4)\n",
      "Requirement already satisfied: pyarrow<10.0.0,>=0.15.1 in /Users/sandersoeteman/mambaforge/envs/python_3_10_8/lib/python3.10/site-packages (from apache_beam) (9.0.0)\n",
      "Requirement already satisfied: grpcio!=1.48.0,<2,>=1.33.1 in /Users/sandersoeteman/mambaforge/envs/python_3_10_8/lib/python3.10/site-packages (from apache_beam) (1.51.1)\n",
      "Requirement already satisfied: pytz>=2018.3 in /Users/sandersoeteman/mambaforge/envs/python_3_10_8/lib/python3.10/site-packages (from apache_beam) (2022.7.1)\n",
      "Requirement already satisfied: python-dateutil<3,>=2.8.0 in /Users/sandersoeteman/mambaforge/envs/python_3_10_8/lib/python3.10/site-packages (from apache_beam) (2.8.2)\n",
      "Requirement already satisfied: pydot<2,>=1.2.0 in /Users/sandersoeteman/mambaforge/envs/python_3_10_8/lib/python3.10/site-packages (from apache_beam) (1.4.2)\n",
      "Requirement already satisfied: orjson<4.0 in /Users/sandersoeteman/mambaforge/envs/python_3_10_8/lib/python3.10/site-packages (from apache_beam) (3.8.5)\n",
      "Requirement already satisfied: fastavro<2,>=0.23.6 in /Users/sandersoeteman/mambaforge/envs/python_3_10_8/lib/python3.10/site-packages (from apache_beam) (1.7.0)\n",
      "Requirement already satisfied: fasteners<1.0,>=0.3 in /Users/sandersoeteman/mambaforge/envs/python_3_10_8/lib/python3.10/site-packages (from apache_beam) (0.18)\n",
      "Requirement already satisfied: requests<3.0.0,>=2.24.0 in /Users/sandersoeteman/mambaforge/envs/python_3_10_8/lib/python3.10/site-packages (from apache_beam) (2.28.2)\n",
      "Requirement already satisfied: numpy<1.23.0,>=1.14.3 in /Users/sandersoeteman/mambaforge/envs/python_3_10_8/lib/python3.10/site-packages (from apache_beam) (1.22.4)\n",
      "Requirement already satisfied: proto-plus<2,>=1.7.1 in /Users/sandersoeteman/mambaforge/envs/python_3_10_8/lib/python3.10/site-packages (from apache_beam) (1.22.2)\n",
      "Requirement already satisfied: hdfs<3.0.0,>=2.1.0 in /Users/sandersoeteman/mambaforge/envs/python_3_10_8/lib/python3.10/site-packages (from apache_beam) (2.7.0)\n",
      "Requirement already satisfied: cloudpickle~=2.2.0 in /Users/sandersoeteman/mambaforge/envs/python_3_10_8/lib/python3.10/site-packages (from apache_beam) (2.2.1)\n",
      "Requirement already satisfied: typing-extensions>=3.7.0 in /Users/sandersoeteman/mambaforge/envs/python_3_10_8/lib/python3.10/site-packages (from apache_beam) (4.4.0)\n",
      "Requirement already satisfied: six>=1.9.0 in /Users/sandersoeteman/mambaforge/envs/python_3_10_8/lib/python3.10/site-packages (from hdfs<3.0.0,>=2.1.0->apache_beam) (1.16.0)\n",
      "Requirement already satisfied: docopt in /Users/sandersoeteman/mambaforge/envs/python_3_10_8/lib/python3.10/site-packages (from hdfs<3.0.0,>=2.1.0->apache_beam) (0.6.2)\n",
      "Requirement already satisfied: pyparsing!=3.0.0,!=3.0.1,!=3.0.2,!=3.0.3,<4,>=2.4.2 in /Users/sandersoeteman/mambaforge/envs/python_3_10_8/lib/python3.10/site-packages (from httplib2<0.21.0,>=0.8->apache_beam) (3.0.9)\n",
      "Requirement already satisfied: idna<4,>=2.5 in /Users/sandersoeteman/mambaforge/envs/python_3_10_8/lib/python3.10/site-packages (from requests<3.0.0,>=2.24.0->apache_beam) (3.4)\n",
      "Requirement already satisfied: certifi>=2017.4.17 in /Users/sandersoeteman/mambaforge/envs/python_3_10_8/lib/python3.10/site-packages (from requests<3.0.0,>=2.24.0->apache_beam) (2022.12.7)\n",
      "Requirement already satisfied: urllib3<1.27,>=1.21.1 in /Users/sandersoeteman/mambaforge/envs/python_3_10_8/lib/python3.10/site-packages (from requests<3.0.0,>=2.24.0->apache_beam) (1.26.14)\n",
      "Requirement already satisfied: charset-normalizer<4,>=2 in /Users/sandersoeteman/mambaforge/envs/python_3_10_8/lib/python3.10/site-packages (from requests<3.0.0,>=2.24.0->apache_beam) (2.1.1)\n"
     ]
    },
    {
     "name": "stderr",
     "output_type": "stream",
     "text": [
      "WARNING:datasets.builder:Using custom data configuration 20230101.nl-date=20230101,language=nl\n",
      "WARNING:datasets.builder:Found cached dataset wikipedia (/Users/sandersoeteman/.cache/huggingface/datasets/wikipedia/20230101.nl-date=20230101,language=nl/2.0.0/aa542ed919df55cc5d3347f42dd4521d05ca68751f50dbc32bae2a7f1e167559)\n"
     ]
    },
    {
     "data": {
      "application/vnd.jupyter.widget-view+json": {
       "model_id": "417277f19b4e44eb8026da45a056fb0f",
       "version_major": 2,
       "version_minor": 0
      },
      "text/plain": [
       "  0%|          | 0/1 [00:00<?, ?it/s]"
      ]
     },
     "metadata": {},
     "output_type": "display_data"
    }
   ],
   "source": [
    "#hide\n",
    "! pip install apache_beam mwparserfromhell\n",
    "from datasets import load_dataset\n",
    "\n",
    "ds = load_dataset(\"wikipedia\", language=\"nl\", date=\"20230101\", beam_runner=\"DirectRunner\")"
   ]
  },
  {
   "cell_type": "code",
   "execution_count": 21,
   "metadata": {},
   "outputs": [],
   "source": [
    "from fastai.text.all import *\n"
   ]
  },
  {
   "cell_type": "code",
   "execution_count": 9,
   "metadata": {},
   "outputs": [
    {
     "data": {
      "text/plain": [
       "Dataset({\n",
       "    features: ['id', 'url', 'title', 'text'],\n",
       "    num_rows: 2111477\n",
       "})"
      ]
     },
     "execution_count": 9,
     "metadata": {},
     "output_type": "execute_result"
    }
   ],
   "source": [
    "ds['train']"
   ]
  },
  {
   "cell_type": "code",
   "execution_count": 23,
   "metadata": {},
   "outputs": [
    {
     "data": {
      "text/plain": [
       "'Berthold Konrad Hermann Albert Speer (Mannheim, 19 maart 1905 – Londen, 1 september 1981) was een Du'"
      ]
     },
     "execution_count": 23,
     "metadata": {},
     "output_type": "execute_result"
    }
   ],
   "source": [
    "ds['train'][0]['text'][0:100]"
   ]
  },
  {
   "cell_type": "code",
   "execution_count": null,
   "metadata": {},
   "outputs": [],
   "source": [
    "number_of_articles = 10\n",
    "txt = ds['train'][0:number_of_articles]['text']"
   ]
  },
  {
   "cell_type": "code",
   "execution_count": 11,
   "metadata": {},
   "outputs": [],
   "source": []
  },
  {
   "cell_type": "code",
   "execution_count": 20,
   "metadata": {},
   "outputs": [
    {
     "name": "stdout",
     "output_type": "stream",
     "text": [
      "(#4060) ['Berthold','Konrad','Hermann','Albert','Speer','(','Mannheim',',','19','maart','1905','–','Londen',',','1','september','1981',')','was','een','Duits','architect','en','stedenbouwkundige','.','Tijdens','de','naziheerschappij','over','Duitsland'...]\n"
     ]
    }
   ],
   "source": [
    "spacy = WordTokenizer()\n",
    "toks = first(spacy([txt]))\n",
    "print(coll_repr(toks, 30))"
   ]
  },
  {
   "cell_type": "code",
   "execution_count": null,
   "metadata": {},
   "outputs": [],
   "source": []
  }
 ],
 "metadata": {
  "kernelspec": {
   "display_name": "python_3_10_8",
   "language": "python",
   "name": "python3"
  },
  "language_info": {
   "codemirror_mode": {
    "name": "ipython",
    "version": 3
   },
   "file_extension": ".py",
   "mimetype": "text/x-python",
   "name": "python",
   "nbconvert_exporter": "python",
   "pygments_lexer": "ipython3",
   "version": "3.10.8"
  },
  "orig_nbformat": 4,
  "vscode": {
   "interpreter": {
    "hash": "8c79c08254271a7bd0af31fa7142a1c0ed1d300a60c428c293af9da7d710266b"
   }
  }
 },
 "nbformat": 4,
 "nbformat_minor": 2
}
